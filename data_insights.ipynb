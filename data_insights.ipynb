{
  "nbformat": 4,
  "nbformat_minor": 0,
  "metadata": {
    "colab": {
      "name": "data_insights.ipynb",
      "provenance": [],
      "collapsed_sections": [],
      "include_colab_link": true
    },
    "kernelspec": {
      "display_name": "Python 3",
      "language": "python",
      "name": "python3"
    },
    "language_info": {
      "codemirror_mode": {
        "name": "ipython",
        "version": 3
      },
      "file_extension": ".py",
      "mimetype": "text/x-python",
      "name": "python",
      "nbconvert_exporter": "python",
      "pygments_lexer": "ipython3",
      "version": "3.8.5"
    }
  },
  "cells": [
    {
      "cell_type": "markdown",
      "metadata": {
        "id": "view-in-github",
        "colab_type": "text"
      },
      "source": [
        "<a href=\"https://colab.research.google.com/github/MianUsmanAhmed12/Assignment2/blob/main/data_insights.ipynb\" target=\"_parent\"><img src=\"https://colab.research.google.com/assets/colab-badge.svg\" alt=\"Open In Colab\"/></a>"
      ]
    },
    {
      "cell_type": "code",
      "metadata": {
        "id": "9EskCBLgJidK"
      },
      "source": [
        "\"\"\"This is the python notebook for generating insights from data to know if there is any bias\"\"\"\n",
        "import pandas as pd"
      ],
      "execution_count": null,
      "outputs": []
    },
    {
      "cell_type": "code",
      "metadata": {
        "colab": {
          "base_uri": "https://localhost:8080/"
        },
        "id": "7RZjBpauJkZ2",
        "outputId": "19ed053b-1dd6-4186-bd26-58f7b10fe965"
      },
      "source": [
        "#read the csv file.\n",
        "dataset = pd.read_csv('london-stop-and-search.csv')"
      ],
      "execution_count": null,
      "outputs": [
        {
          "output_type": "stream",
          "text": [
            "/Users/mianusmanahmed/opt/anaconda3/lib/python3.8/site-packages/IPython/core/interactiveshell.py:3146: DtypeWarning: Columns (2,13,14) have mixed types.Specify dtype option on import or set low_memory=False.\n",
            "  has_raised = await self.run_ast_nodes(code_ast.body, cell_name,\n"
          ],
          "name": "stderr"
        }
      ]
    },
    {
      "cell_type": "code",
      "metadata": {
        "colab": {
          "base_uri": "https://localhost:8080/",
          "height": 701
        },
        "id": "10CTGA4aJvWK",
        "outputId": "48b521d7-494f-4e52-b9d5-52f842f86a6f"
      },
      "source": [
        "#We will display the first five rows of data to get the rough idea of what data looks like.\n",
        "dataset.head().transpose()"
      ],
      "execution_count": null,
      "outputs": [
        {
          "output_type": "execute_result",
          "data": {
            "text/html": [
              "<div>\n",
              "<style scoped>\n",
              "    .dataframe tbody tr th:only-of-type {\n",
              "        vertical-align: middle;\n",
              "    }\n",
              "\n",
              "    .dataframe tbody tr th {\n",
              "        vertical-align: top;\n",
              "    }\n",
              "\n",
              "    .dataframe thead th {\n",
              "        text-align: right;\n",
              "    }\n",
              "</style>\n",
              "<table border=\"1\" class=\"dataframe\">\n",
              "  <thead>\n",
              "    <tr style=\"text-align: right;\">\n",
              "      <th></th>\n",
              "      <th>0</th>\n",
              "      <th>1</th>\n",
              "      <th>2</th>\n",
              "      <th>3</th>\n",
              "      <th>4</th>\n",
              "    </tr>\n",
              "  </thead>\n",
              "  <tbody>\n",
              "    <tr>\n",
              "      <th>Type</th>\n",
              "      <td>Person search</td>\n",
              "      <td>Person search</td>\n",
              "      <td>Person search</td>\n",
              "      <td>Person search</td>\n",
              "      <td>Person and Vehicle search</td>\n",
              "    </tr>\n",
              "    <tr>\n",
              "      <th>Date</th>\n",
              "      <td>2015-03-02T16:40:00+00:00</td>\n",
              "      <td>2015-03-02T16:40:00+00:00</td>\n",
              "      <td>2015-03-02T18:45:00+00:00</td>\n",
              "      <td>2015-03-02T19:15:00+00:00</td>\n",
              "      <td>2015-03-03T15:50:00+00:00</td>\n",
              "    </tr>\n",
              "    <tr>\n",
              "      <th>Part of a policing operation</th>\n",
              "      <td>NaN</td>\n",
              "      <td>NaN</td>\n",
              "      <td>NaN</td>\n",
              "      <td>NaN</td>\n",
              "      <td>NaN</td>\n",
              "    </tr>\n",
              "    <tr>\n",
              "      <th>Policing operation</th>\n",
              "      <td>NaN</td>\n",
              "      <td>NaN</td>\n",
              "      <td>NaN</td>\n",
              "      <td>NaN</td>\n",
              "      <td>NaN</td>\n",
              "    </tr>\n",
              "    <tr>\n",
              "      <th>Latitude</th>\n",
              "      <td>NaN</td>\n",
              "      <td>NaN</td>\n",
              "      <td>NaN</td>\n",
              "      <td>NaN</td>\n",
              "      <td>NaN</td>\n",
              "    </tr>\n",
              "    <tr>\n",
              "      <th>Longitude</th>\n",
              "      <td>NaN</td>\n",
              "      <td>NaN</td>\n",
              "      <td>NaN</td>\n",
              "      <td>NaN</td>\n",
              "      <td>NaN</td>\n",
              "    </tr>\n",
              "    <tr>\n",
              "      <th>Gender</th>\n",
              "      <td>Male</td>\n",
              "      <td>Male</td>\n",
              "      <td>Male</td>\n",
              "      <td>Male</td>\n",
              "      <td>Male</td>\n",
              "    </tr>\n",
              "    <tr>\n",
              "      <th>Age range</th>\n",
              "      <td>25-34</td>\n",
              "      <td>25-34</td>\n",
              "      <td>25-34</td>\n",
              "      <td>over 34</td>\n",
              "      <td>25-34</td>\n",
              "    </tr>\n",
              "    <tr>\n",
              "      <th>Self-defined ethnicity</th>\n",
              "      <td>Asian or Asian British - Bangladeshi (A3)</td>\n",
              "      <td>Asian or Asian British - Bangladeshi (A3)</td>\n",
              "      <td>White - Any other White ethnic background (W9)</td>\n",
              "      <td>White - White British (W1)</td>\n",
              "      <td>White - White British (W1)</td>\n",
              "    </tr>\n",
              "    <tr>\n",
              "      <th>Officer-defined ethnicity</th>\n",
              "      <td>Asian</td>\n",
              "      <td>Asian</td>\n",
              "      <td>White</td>\n",
              "      <td>White</td>\n",
              "      <td>White</td>\n",
              "    </tr>\n",
              "    <tr>\n",
              "      <th>Legislation</th>\n",
              "      <td>Police and Criminal Evidence Act 1984 (section 1)</td>\n",
              "      <td>Police and Criminal Evidence Act 1984 (section 1)</td>\n",
              "      <td>Police and Criminal Evidence Act 1984 (section 1)</td>\n",
              "      <td>Police and Criminal Evidence Act 1984 (section 1)</td>\n",
              "      <td>Police and Criminal Evidence Act 1984 (section 1)</td>\n",
              "    </tr>\n",
              "    <tr>\n",
              "      <th>Object of search</th>\n",
              "      <td>Stolen goods</td>\n",
              "      <td>Stolen goods</td>\n",
              "      <td>NaN</td>\n",
              "      <td>Stolen goods</td>\n",
              "      <td>Stolen goods</td>\n",
              "    </tr>\n",
              "    <tr>\n",
              "      <th>Outcome</th>\n",
              "      <td>Suspect arrested</td>\n",
              "      <td>Suspect arrested</td>\n",
              "      <td>Suspect arrested</td>\n",
              "      <td>Suspect arrested</td>\n",
              "      <td>Suspect arrested</td>\n",
              "    </tr>\n",
              "    <tr>\n",
              "      <th>Outcome linked to object of search</th>\n",
              "      <td>True</td>\n",
              "      <td>False</td>\n",
              "      <td>True</td>\n",
              "      <td>False</td>\n",
              "      <td>True</td>\n",
              "    </tr>\n",
              "    <tr>\n",
              "      <th>Removal of more than just outer clothing</th>\n",
              "      <td>False</td>\n",
              "      <td>False</td>\n",
              "      <td>True</td>\n",
              "      <td>False</td>\n",
              "      <td>True</td>\n",
              "    </tr>\n",
              "  </tbody>\n",
              "</table>\n",
              "</div>"
            ],
            "text/plain": [
              "                                                                                          0  \\\n",
              "Type                                                                          Person search   \n",
              "Date                                                              2015-03-02T16:40:00+00:00   \n",
              "Part of a policing operation                                                            NaN   \n",
              "Policing operation                                                                      NaN   \n",
              "Latitude                                                                                NaN   \n",
              "Longitude                                                                               NaN   \n",
              "Gender                                                                                 Male   \n",
              "Age range                                                                             25-34   \n",
              "Self-defined ethnicity                            Asian or Asian British - Bangladeshi (A3)   \n",
              "Officer-defined ethnicity                                                             Asian   \n",
              "Legislation                               Police and Criminal Evidence Act 1984 (section 1)   \n",
              "Object of search                                                               Stolen goods   \n",
              "Outcome                                                                    Suspect arrested   \n",
              "Outcome linked to object of search                                                     True   \n",
              "Removal of more than just outer clothing                                              False   \n",
              "\n",
              "                                                                                          1  \\\n",
              "Type                                                                          Person search   \n",
              "Date                                                              2015-03-02T16:40:00+00:00   \n",
              "Part of a policing operation                                                            NaN   \n",
              "Policing operation                                                                      NaN   \n",
              "Latitude                                                                                NaN   \n",
              "Longitude                                                                               NaN   \n",
              "Gender                                                                                 Male   \n",
              "Age range                                                                             25-34   \n",
              "Self-defined ethnicity                            Asian or Asian British - Bangladeshi (A3)   \n",
              "Officer-defined ethnicity                                                             Asian   \n",
              "Legislation                               Police and Criminal Evidence Act 1984 (section 1)   \n",
              "Object of search                                                               Stolen goods   \n",
              "Outcome                                                                    Suspect arrested   \n",
              "Outcome linked to object of search                                                    False   \n",
              "Removal of more than just outer clothing                                              False   \n",
              "\n",
              "                                                                                          2  \\\n",
              "Type                                                                          Person search   \n",
              "Date                                                              2015-03-02T18:45:00+00:00   \n",
              "Part of a policing operation                                                            NaN   \n",
              "Policing operation                                                                      NaN   \n",
              "Latitude                                                                                NaN   \n",
              "Longitude                                                                               NaN   \n",
              "Gender                                                                                 Male   \n",
              "Age range                                                                             25-34   \n",
              "Self-defined ethnicity                       White - Any other White ethnic background (W9)   \n",
              "Officer-defined ethnicity                                                             White   \n",
              "Legislation                               Police and Criminal Evidence Act 1984 (section 1)   \n",
              "Object of search                                                                        NaN   \n",
              "Outcome                                                                    Suspect arrested   \n",
              "Outcome linked to object of search                                                     True   \n",
              "Removal of more than just outer clothing                                               True   \n",
              "\n",
              "                                                                                          3  \\\n",
              "Type                                                                          Person search   \n",
              "Date                                                              2015-03-02T19:15:00+00:00   \n",
              "Part of a policing operation                                                            NaN   \n",
              "Policing operation                                                                      NaN   \n",
              "Latitude                                                                                NaN   \n",
              "Longitude                                                                               NaN   \n",
              "Gender                                                                                 Male   \n",
              "Age range                                                                           over 34   \n",
              "Self-defined ethnicity                                           White - White British (W1)   \n",
              "Officer-defined ethnicity                                                             White   \n",
              "Legislation                               Police and Criminal Evidence Act 1984 (section 1)   \n",
              "Object of search                                                               Stolen goods   \n",
              "Outcome                                                                    Suspect arrested   \n",
              "Outcome linked to object of search                                                    False   \n",
              "Removal of more than just outer clothing                                              False   \n",
              "\n",
              "                                                                                          4  \n",
              "Type                                                              Person and Vehicle search  \n",
              "Date                                                              2015-03-03T15:50:00+00:00  \n",
              "Part of a policing operation                                                            NaN  \n",
              "Policing operation                                                                      NaN  \n",
              "Latitude                                                                                NaN  \n",
              "Longitude                                                                               NaN  \n",
              "Gender                                                                                 Male  \n",
              "Age range                                                                             25-34  \n",
              "Self-defined ethnicity                                           White - White British (W1)  \n",
              "Officer-defined ethnicity                                                             White  \n",
              "Legislation                               Police and Criminal Evidence Act 1984 (section 1)  \n",
              "Object of search                                                               Stolen goods  \n",
              "Outcome                                                                    Suspect arrested  \n",
              "Outcome linked to object of search                                                     True  \n",
              "Removal of more than just outer clothing                                               True  "
            ]
          },
          "metadata": {
            "tags": []
          },
          "execution_count": 38
        }
      ]
    },
    {
      "cell_type": "code",
      "metadata": {
        "colab": {
          "base_uri": "https://localhost:8080/"
        },
        "id": "R65cBATxJ3g-",
        "outputId": "5ca98baa-194f-42cc-c04d-70323b2a6de5"
      },
      "source": [
        "#print the lenght of dataset\n",
        "print(len(dataset))"
      ],
      "execution_count": null,
      "outputs": [
        {
          "output_type": "stream",
          "text": [
            "302623\n"
          ],
          "name": "stdout"
        }
      ]
    },
    {
      "cell_type": "code",
      "metadata": {
        "id": "jswYz-WYKFGn"
      },
      "source": [
        "#we will drop the dublicates if there are any in dataset\n",
        "dataset = dataset.drop_duplicates()"
      ],
      "execution_count": null,
      "outputs": []
    },
    {
      "cell_type": "code",
      "metadata": {
        "colab": {
          "base_uri": "https://localhost:8080/"
        },
        "id": "L0I-lITVKLNb",
        "outputId": "aa838f94-76c9-4f52-b42e-8c6c669c721a"
      },
      "source": [
        "#We will check the length of dataset after dropping dublicates to know if any were present,\n",
        "print(len(dataset))"
      ],
      "execution_count": null,
      "outputs": [
        {
          "output_type": "stream",
          "text": [
            "290858\n"
          ],
          "name": "stdout"
        }
      ]
    },
    {
      "cell_type": "code",
      "metadata": {
        "colab": {
          "base_uri": "https://localhost:8080/"
        },
        "id": "7zJvs_DwKV0X",
        "outputId": "1257e0cc-21c3-4a5f-835a-7c1780a94bc7"
      },
      "source": [
        "#now we will get list of names of columns to know what features we have in the dataset.\n",
        "dataset.columns"
      ],
      "execution_count": null,
      "outputs": [
        {
          "output_type": "execute_result",
          "data": {
            "text/plain": [
              "Index(['Type', 'Date', 'Part of a policing operation', 'Policing operation',\n",
              "       'Latitude', 'Longitude', 'Gender', 'Age range',\n",
              "       'Self-defined ethnicity', 'Officer-defined ethnicity', 'Legislation',\n",
              "       'Object of search', 'Outcome', 'Outcome linked to object of search',\n",
              "       'Removal of more than just outer clothing'],\n",
              "      dtype='object')"
            ]
          },
          "metadata": {
            "tags": []
          },
          "execution_count": 42
        }
      ]
    },
    {
      "cell_type": "code",
      "metadata": {
        "colab": {
          "base_uri": "https://localhost:8080/"
        },
        "id": "VeciNdwVKtzB",
        "outputId": "54c19989-cf32-41b9-d46e-0528b0ceec6c"
      },
      "source": [
        "#\"Part of policing operation\" was showing nan when we saw the first five rows, so we will see how many unique values it has. \n",
        "dataset['Part of a policing operation'].unique()"
      ],
      "execution_count": null,
      "outputs": [
        {
          "output_type": "execute_result",
          "data": {
            "text/plain": [
              "array([nan, False], dtype=object)"
            ]
          },
          "metadata": {
            "tags": []
          },
          "execution_count": 43
        }
      ]
    },
    {
      "cell_type": "code",
      "metadata": {
        "colab": {
          "base_uri": "https://localhost:8080/"
        },
        "id": "ddn180qFK0q9",
        "outputId": "7b75fb3b-bd4e-471a-c5c7-7e2c7eaa568a"
      },
      "source": [
        "#\"policing operation\" was also showing nan when we saw the first five rows, so we will see how many unique values it has. \n",
        "dataset['Policing operation'].unique()"
      ],
      "execution_count": null,
      "outputs": [
        {
          "output_type": "execute_result",
          "data": {
            "text/plain": [
              "array([nan])"
            ]
          },
          "metadata": {
            "tags": []
          },
          "execution_count": 44
        }
      ]
    },
    {
      "cell_type": "code",
      "metadata": {
        "id": "GQcuEqnvLmNB"
      },
      "source": [
        "#Since both the columns have only nan values, so these are not useful for us, so we will drop the columns. \n",
        "dataset.drop(columns=['Part of a policing operation', 'Policing operation'], inplace= True)"
      ],
      "execution_count": null,
      "outputs": []
    },
    {
      "cell_type": "code",
      "metadata": {
        "colab": {
          "base_uri": "https://localhost:8080/"
        },
        "id": "m6qLRC-GLZ-I",
        "outputId": "864030a7-5801-4bbc-e9af-2f67506b8d38"
      },
      "source": [
        "#Next, lets see the unique values in Type and Gender to see the doversity here\n",
        "print(dataset['Type'].unique())\n",
        "print(dataset['Gender'].unique())"
      ],
      "execution_count": null,
      "outputs": [
        {
          "output_type": "stream",
          "text": [
            "['Person search' 'Person and Vehicle search' 'Vehicle search']\n",
            "['Male' 'Female' nan 'Other']\n"
          ],
          "name": "stdout"
        }
      ]
    },
    {
      "cell_type": "code",
      "metadata": {
        "id": "2lMC0Z_7Li2K"
      },
      "source": [
        "#We will see what age group is stopped and searched most in both males and females, So we will group Gender and Age range column\n",
        "dataset_grouped1 = dataset.groupby(['Gender', 'Age range'])['Date'].count().unstack(fill_value=0)"
      ],
      "execution_count": null,
      "outputs": []
    },
    {
      "cell_type": "code",
      "metadata": {
        "colab": {
          "base_uri": "https://localhost:8080/",
          "height": 173
        },
        "id": "Dc8YdTLNM0x8",
        "outputId": "925e2e32-3e61-4539-8637-e4018c702c9c"
      },
      "source": [
        "dataset_grouped1.head()"
      ],
      "execution_count": null,
      "outputs": [
        {
          "output_type": "execute_result",
          "data": {
            "text/html": [
              "<div>\n",
              "<style scoped>\n",
              "    .dataframe tbody tr th:only-of-type {\n",
              "        vertical-align: middle;\n",
              "    }\n",
              "\n",
              "    .dataframe tbody tr th {\n",
              "        vertical-align: top;\n",
              "    }\n",
              "\n",
              "    .dataframe thead th {\n",
              "        text-align: right;\n",
              "    }\n",
              "</style>\n",
              "<table border=\"1\" class=\"dataframe\">\n",
              "  <thead>\n",
              "    <tr style=\"text-align: right;\">\n",
              "      <th>Age range</th>\n",
              "      <th>10-17</th>\n",
              "      <th>18-24</th>\n",
              "      <th>25-34</th>\n",
              "      <th>over 34</th>\n",
              "      <th>under 10</th>\n",
              "    </tr>\n",
              "    <tr>\n",
              "      <th>Gender</th>\n",
              "      <th></th>\n",
              "      <th></th>\n",
              "      <th></th>\n",
              "      <th></th>\n",
              "      <th></th>\n",
              "    </tr>\n",
              "  </thead>\n",
              "  <tbody>\n",
              "    <tr>\n",
              "      <th>Female</th>\n",
              "      <td>3117</td>\n",
              "      <td>6298</td>\n",
              "      <td>4563</td>\n",
              "      <td>4028</td>\n",
              "      <td>12</td>\n",
              "    </tr>\n",
              "    <tr>\n",
              "      <th>Male</th>\n",
              "      <td>49426</td>\n",
              "      <td>105912</td>\n",
              "      <td>61337</td>\n",
              "      <td>41950</td>\n",
              "      <td>70</td>\n",
              "    </tr>\n",
              "    <tr>\n",
              "      <th>Other</th>\n",
              "      <td>18</td>\n",
              "      <td>36</td>\n",
              "      <td>25</td>\n",
              "      <td>19</td>\n",
              "      <td>1</td>\n",
              "    </tr>\n",
              "  </tbody>\n",
              "</table>\n",
              "</div>"
            ],
            "text/plain": [
              "Age range  10-17   18-24  25-34  over 34  under 10\n",
              "Gender                                            \n",
              "Female      3117    6298   4563     4028        12\n",
              "Male       49426  105912  61337    41950        70\n",
              "Other         18      36     25       19         1"
            ]
          },
          "metadata": {
            "tags": []
          },
          "execution_count": 48
        }
      ]
    },
    {
      "cell_type": "code",
      "metadata": {
        "colab": {
          "base_uri": "https://localhost:8080/",
          "height": 359
        },
        "id": "P-o7o09IM9me",
        "outputId": "800d3cbd-606d-476f-e691-e517bd24353e"
      },
      "source": [
        "#We will see what UK police find when they stopped and searced people. we will check this gender wise. \n",
        "dataset_grouped2 = dataset.groupby(['Gender', 'Object of search'])['Date'].count().unstack(fill_value=0)\n",
        "dataset_grouped2.head().transpose()"
      ],
      "execution_count": null,
      "outputs": [
        {
          "output_type": "execute_result",
          "data": {
            "text/html": [
              "<div>\n",
              "<style scoped>\n",
              "    .dataframe tbody tr th:only-of-type {\n",
              "        vertical-align: middle;\n",
              "    }\n",
              "\n",
              "    .dataframe tbody tr th {\n",
              "        vertical-align: top;\n",
              "    }\n",
              "\n",
              "    .dataframe thead th {\n",
              "        text-align: right;\n",
              "    }\n",
              "</style>\n",
              "<table border=\"1\" class=\"dataframe\">\n",
              "  <thead>\n",
              "    <tr style=\"text-align: right;\">\n",
              "      <th>Gender</th>\n",
              "      <th>Female</th>\n",
              "      <th>Male</th>\n",
              "      <th>Other</th>\n",
              "    </tr>\n",
              "    <tr>\n",
              "      <th>Object of search</th>\n",
              "      <th></th>\n",
              "      <th></th>\n",
              "      <th></th>\n",
              "    </tr>\n",
              "  </thead>\n",
              "  <tbody>\n",
              "    <tr>\n",
              "      <th>Anything to threaten or harm anyone</th>\n",
              "      <td>44</td>\n",
              "      <td>517</td>\n",
              "      <td>0</td>\n",
              "    </tr>\n",
              "    <tr>\n",
              "      <th>Article for use in theft</th>\n",
              "      <td>17</td>\n",
              "      <td>264</td>\n",
              "      <td>0</td>\n",
              "    </tr>\n",
              "    <tr>\n",
              "      <th>Articles for use in criminal damage</th>\n",
              "      <td>4506</td>\n",
              "      <td>68729</td>\n",
              "      <td>28</td>\n",
              "    </tr>\n",
              "    <tr>\n",
              "      <th>Controlled drugs</th>\n",
              "      <td>8666</td>\n",
              "      <td>119911</td>\n",
              "      <td>48</td>\n",
              "    </tr>\n",
              "    <tr>\n",
              "      <th>Evidence of offences under the Act</th>\n",
              "      <td>0</td>\n",
              "      <td>3</td>\n",
              "      <td>0</td>\n",
              "    </tr>\n",
              "    <tr>\n",
              "      <th>Firearms</th>\n",
              "      <td>137</td>\n",
              "      <td>1806</td>\n",
              "      <td>2</td>\n",
              "    </tr>\n",
              "    <tr>\n",
              "      <th>Fireworks</th>\n",
              "      <td>0</td>\n",
              "      <td>2</td>\n",
              "      <td>0</td>\n",
              "    </tr>\n",
              "    <tr>\n",
              "      <th>Offensive weapons</th>\n",
              "      <td>1</td>\n",
              "      <td>104</td>\n",
              "      <td>0</td>\n",
              "    </tr>\n",
              "    <tr>\n",
              "      <th>Stolen goods</th>\n",
              "      <td>100</td>\n",
              "      <td>843</td>\n",
              "      <td>0</td>\n",
              "    </tr>\n",
              "  </tbody>\n",
              "</table>\n",
              "</div>"
            ],
            "text/plain": [
              "Gender                               Female    Male  Other\n",
              "Object of search                                          \n",
              "Anything to threaten or harm anyone      44     517      0\n",
              "Article for use in theft                 17     264      0\n",
              "Articles for use in criminal damage    4506   68729     28\n",
              "Controlled drugs                       8666  119911     48\n",
              "Evidence of offences under the Act        0       3      0\n",
              "Firearms                                137    1806      2\n",
              "Fireworks                                 0       2      0\n",
              "Offensive weapons                         1     104      0\n",
              "Stolen goods                            100     843      0"
            ]
          },
          "metadata": {
            "tags": []
          },
          "execution_count": 49
        }
      ]
    },
    {
      "cell_type": "code",
      "metadata": {
        "colab": {
          "base_uri": "https://localhost:8080/",
          "height": 607
        },
        "id": "sKBNMv7-NkAd",
        "outputId": "1beaf3e0-89f6-496f-9c74-06aaad266c91"
      },
      "source": [
        "#Next, we will see the proportion of ethnic groups who are being stopped and searched.\n",
        "dataset_grouped3 = dataset.groupby(['Gender', 'Self-defined ethnicity'])['Date'].count().unstack(fill_value=0)\n",
        "dataset_grouped3.head().transpose()"
      ],
      "execution_count": null,
      "outputs": [
        {
          "output_type": "execute_result",
          "data": {
            "text/html": [
              "<div>\n",
              "<style scoped>\n",
              "    .dataframe tbody tr th:only-of-type {\n",
              "        vertical-align: middle;\n",
              "    }\n",
              "\n",
              "    .dataframe tbody tr th {\n",
              "        vertical-align: top;\n",
              "    }\n",
              "\n",
              "    .dataframe thead th {\n",
              "        text-align: right;\n",
              "    }\n",
              "</style>\n",
              "<table border=\"1\" class=\"dataframe\">\n",
              "  <thead>\n",
              "    <tr style=\"text-align: right;\">\n",
              "      <th>Gender</th>\n",
              "      <th>Female</th>\n",
              "      <th>Male</th>\n",
              "      <th>Other</th>\n",
              "    </tr>\n",
              "    <tr>\n",
              "      <th>Self-defined ethnicity</th>\n",
              "      <th></th>\n",
              "      <th></th>\n",
              "      <th></th>\n",
              "    </tr>\n",
              "  </thead>\n",
              "  <tbody>\n",
              "    <tr>\n",
              "      <th>Asian or Asian British - Any other Asian ethnic background (A9)</th>\n",
              "      <td>495</td>\n",
              "      <td>15386</td>\n",
              "      <td>6</td>\n",
              "    </tr>\n",
              "    <tr>\n",
              "      <th>Asian or Asian British - Bangladeshi (A3)</th>\n",
              "      <td>165</td>\n",
              "      <td>10123</td>\n",
              "      <td>5</td>\n",
              "    </tr>\n",
              "    <tr>\n",
              "      <th>Asian or Asian British - Indian (A1)</th>\n",
              "      <td>222</td>\n",
              "      <td>5341</td>\n",
              "      <td>1</td>\n",
              "    </tr>\n",
              "    <tr>\n",
              "      <th>Asian or Asian British - Pakistani (A2)</th>\n",
              "      <td>155</td>\n",
              "      <td>5422</td>\n",
              "      <td>0</td>\n",
              "    </tr>\n",
              "    <tr>\n",
              "      <th>Black or Black British - African (B2)</th>\n",
              "      <td>823</td>\n",
              "      <td>29459</td>\n",
              "      <td>15</td>\n",
              "    </tr>\n",
              "    <tr>\n",
              "      <th>Black or Black British - Any other Black ethnic background (B9)</th>\n",
              "      <td>1653</td>\n",
              "      <td>31551</td>\n",
              "      <td>12</td>\n",
              "    </tr>\n",
              "    <tr>\n",
              "      <th>Black or Black British - Caribbean (B1)</th>\n",
              "      <td>1259</td>\n",
              "      <td>24584</td>\n",
              "      <td>5</td>\n",
              "    </tr>\n",
              "    <tr>\n",
              "      <th>Chinese or other ethnic group - Any other ethnic group (O9)</th>\n",
              "      <td>403</td>\n",
              "      <td>6172</td>\n",
              "      <td>2</td>\n",
              "    </tr>\n",
              "    <tr>\n",
              "      <th>Chinese or other ethnic group - Chinese (O1)</th>\n",
              "      <td>51</td>\n",
              "      <td>546</td>\n",
              "      <td>0</td>\n",
              "    </tr>\n",
              "    <tr>\n",
              "      <th>Mixed - Any other Mixed ethnic background (M9)</th>\n",
              "      <td>469</td>\n",
              "      <td>5144</td>\n",
              "      <td>2</td>\n",
              "    </tr>\n",
              "    <tr>\n",
              "      <th>Mixed - White and Asian (M3)</th>\n",
              "      <td>44</td>\n",
              "      <td>734</td>\n",
              "      <td>0</td>\n",
              "    </tr>\n",
              "    <tr>\n",
              "      <th>Mixed - White and Black African (M2)</th>\n",
              "      <td>99</td>\n",
              "      <td>1342</td>\n",
              "      <td>1</td>\n",
              "    </tr>\n",
              "    <tr>\n",
              "      <th>Mixed - White and Black Caribbean (M1)</th>\n",
              "      <td>420</td>\n",
              "      <td>4560</td>\n",
              "      <td>0</td>\n",
              "    </tr>\n",
              "    <tr>\n",
              "      <th>Not Stated (NS)</th>\n",
              "      <td>1562</td>\n",
              "      <td>26746</td>\n",
              "      <td>20</td>\n",
              "    </tr>\n",
              "    <tr>\n",
              "      <th>White - Any other White ethnic background (W9)</th>\n",
              "      <td>3434</td>\n",
              "      <td>36265</td>\n",
              "      <td>18</td>\n",
              "    </tr>\n",
              "    <tr>\n",
              "      <th>White - White British (W1)</th>\n",
              "      <td>7060</td>\n",
              "      <td>62097</td>\n",
              "      <td>31</td>\n",
              "    </tr>\n",
              "    <tr>\n",
              "      <th>White - White Irish (W2)</th>\n",
              "      <td>263</td>\n",
              "      <td>3401</td>\n",
              "      <td>0</td>\n",
              "    </tr>\n",
              "  </tbody>\n",
              "</table>\n",
              "</div>"
            ],
            "text/plain": [
              "Gender                                              Female   Male  Other\n",
              "Self-defined ethnicity                                                  \n",
              "Asian or Asian British - Any other Asian ethnic...     495  15386      6\n",
              "Asian or Asian British - Bangladeshi (A3)              165  10123      5\n",
              "Asian or Asian British - Indian (A1)                   222   5341      1\n",
              "Asian or Asian British - Pakistani (A2)                155   5422      0\n",
              "Black or Black British - African (B2)                  823  29459     15\n",
              "Black or Black British - Any other Black ethnic...    1653  31551     12\n",
              "Black or Black British - Caribbean (B1)               1259  24584      5\n",
              "Chinese or other ethnic group - Any other ethni...     403   6172      2\n",
              "Chinese or other ethnic group - Chinese (O1)            51    546      0\n",
              "Mixed - Any other Mixed ethnic background (M9)         469   5144      2\n",
              "Mixed - White and Asian (M3)                            44    734      0\n",
              "Mixed - White and Black African (M2)                    99   1342      1\n",
              "Mixed - White and Black Caribbean (M1)                 420   4560      0\n",
              "Not Stated (NS)                                       1562  26746     20\n",
              "White - Any other White ethnic background (W9)        3434  36265     18\n",
              "White - White British (W1)                            7060  62097     31\n",
              "White - White Irish (W2)                               263   3401      0"
            ]
          },
          "metadata": {
            "tags": []
          },
          "execution_count": 50
        }
      ]
    },
    {
      "cell_type": "code",
      "metadata": {
        "colab": {
          "base_uri": "https://localhost:8080/",
          "height": 235
        },
        "id": "poxiNo-8OrSo",
        "outputId": "0d954a62-f68e-4a96-c66a-711928b824c1"
      },
      "source": [
        "# we will see how officer defined ethnicity is different from self defined ethnicity.\n",
        "dataset_grouped4 = dataset.groupby(['Gender', 'Officer-defined ethnicity'])['Date'].count().unstack(fill_value=0)\n",
        "dataset_grouped4.head().transpose()"
      ],
      "execution_count": null,
      "outputs": [
        {
          "output_type": "execute_result",
          "data": {
            "text/html": [
              "<div>\n",
              "<style scoped>\n",
              "    .dataframe tbody tr th:only-of-type {\n",
              "        vertical-align: middle;\n",
              "    }\n",
              "\n",
              "    .dataframe tbody tr th {\n",
              "        vertical-align: top;\n",
              "    }\n",
              "\n",
              "    .dataframe thead th {\n",
              "        text-align: right;\n",
              "    }\n",
              "</style>\n",
              "<table border=\"1\" class=\"dataframe\">\n",
              "  <thead>\n",
              "    <tr style=\"text-align: right;\">\n",
              "      <th>Gender</th>\n",
              "      <th>Female</th>\n",
              "      <th>Male</th>\n",
              "      <th>Other</th>\n",
              "    </tr>\n",
              "    <tr>\n",
              "      <th>Officer-defined ethnicity</th>\n",
              "      <th></th>\n",
              "      <th></th>\n",
              "      <th></th>\n",
              "    </tr>\n",
              "  </thead>\n",
              "  <tbody>\n",
              "    <tr>\n",
              "      <th>Asian</th>\n",
              "      <td>1305</td>\n",
              "      <td>40873</td>\n",
              "      <td>16</td>\n",
              "    </tr>\n",
              "    <tr>\n",
              "      <th>Black</th>\n",
              "      <td>5098</td>\n",
              "      <td>106525</td>\n",
              "      <td>41</td>\n",
              "    </tr>\n",
              "    <tr>\n",
              "      <th>Mixed</th>\n",
              "      <td>0</td>\n",
              "      <td>1</td>\n",
              "      <td>0</td>\n",
              "    </tr>\n",
              "    <tr>\n",
              "      <th>Other</th>\n",
              "      <td>265</td>\n",
              "      <td>8347</td>\n",
              "      <td>1</td>\n",
              "    </tr>\n",
              "    <tr>\n",
              "      <th>White</th>\n",
              "      <td>11811</td>\n",
              "      <td>112327</td>\n",
              "      <td>57</td>\n",
              "    </tr>\n",
              "  </tbody>\n",
              "</table>\n",
              "</div>"
            ],
            "text/plain": [
              "Gender                     Female    Male  Other\n",
              "Officer-defined ethnicity                       \n",
              "Asian                        1305   40873     16\n",
              "Black                        5098  106525     41\n",
              "Mixed                           0       1      0\n",
              "Other                         265    8347      1\n",
              "White                       11811  112327     57"
            ]
          },
          "metadata": {
            "tags": []
          },
          "execution_count": 51
        }
      ]
    },
    {
      "cell_type": "code",
      "metadata": {
        "colab": {
          "base_uri": "https://localhost:8080/"
        },
        "id": "Yho6jv3IPpIJ",
        "outputId": "623b8429-a39f-461a-acb4-f9358655ca36"
      },
      "source": [
        "dataset_grouped5 = dataset.groupby('Officer-defined ethnicity')['Date'].count()\n",
        "dataset_grouped5.head().transpose()"
      ],
      "execution_count": null,
      "outputs": [
        {
          "output_type": "execute_result",
          "data": {
            "text/plain": [
              "Officer-defined ethnicity\n",
              "Asian     42301\n",
              "Black    111849\n",
              "Mixed         1\n",
              "Other      8626\n",
              "White    124472\n",
              "Name: Date, dtype: int64"
            ]
          },
          "metadata": {
            "tags": []
          },
          "execution_count": 52
        }
      ]
    },
    {
      "cell_type": "code",
      "metadata": {
        "colab": {
          "base_uri": "https://localhost:8080/"
        },
        "id": "_ZTy9iwyP3_J",
        "outputId": "f6e78e03-1346-4794-df4b-d2690eb29f7f"
      },
      "source": [
        "#We will check the stop and search percentage of Asian and Blacks (BAME) by UK plice\n",
        "(dataset_grouped5['Asian'].sum() + dataset_grouped5['Black'].sum())/ dataset_grouped5.sum()"
      ],
      "execution_count": null,
      "outputs": [
        {
          "output_type": "execute_result",
          "data": {
            "text/plain": [
              "0.5366424252129686"
            ]
          },
          "metadata": {
            "tags": []
          },
          "execution_count": 53
        }
      ]
    },
    {
      "cell_type": "code",
      "metadata": {
        "colab": {
          "base_uri": "https://localhost:8080/"
        },
        "id": "C7-rptDWQZmZ",
        "outputId": "876f4695-9748-4d5c-b91f-fe5b88b25530"
      },
      "source": [
        "#We will see the what is the outcome when people are stopped and searched.\n",
        "dataset.groupby('Outcome')['Date'].count()"
      ],
      "execution_count": null,
      "outputs": [
        {
          "output_type": "execute_result",
          "data": {
            "text/plain": [
              "Outcome\n",
              "Article found - Detailed outcome unavailable        57\n",
              "Local resolution                                  2186\n",
              "Nothing found - no further action               197991\n",
              "Offender cautioned                                 334\n",
              "Offender given drugs possession warning          25156\n",
              "Offender given penalty notice                     5388\n",
              "Suspect arrested                                 57869\n",
              "Suspect summonsed to court                        1877\n",
              "Name: Date, dtype: int64"
            ]
          },
          "metadata": {
            "tags": []
          },
          "execution_count": 54
        }
      ]
    },
    {
      "cell_type": "code",
      "metadata": {
        "id": "d_sSDfjARKy1"
      },
      "source": [
        "#We will make a separate variable for \"nothing found\" value to know how many poeple was stopped and searched but UK police found nothing.\n",
        "no_outcome = dataset[dataset['Outcome']== 'Nothing found - no further action']"
      ],
      "execution_count": null,
      "outputs": []
    },
    {
      "cell_type": "code",
      "metadata": {
        "colab": {
          "base_uri": "https://localhost:8080/"
        },
        "id": "Crc5kLrGRtR6",
        "outputId": "cfbaed5a-1a4f-4d29-85fd-1cc923d80cb2"
      },
      "source": [
        "no_outcome.groupby('Officer-defined ethnicity')['Date'].count()"
      ],
      "execution_count": null,
      "outputs": [
        {
          "output_type": "execute_result",
          "data": {
            "text/plain": [
              "Officer-defined ethnicity\n",
              "Asian    28959\n",
              "Black    76600\n",
              "Mixed        1\n",
              "Other     5847\n",
              "White    83980\n",
              "Name: Date, dtype: int64"
            ]
          },
          "metadata": {
            "tags": []
          },
          "execution_count": 56
        }
      ]
    },
    {
      "cell_type": "code",
      "metadata": {
        "id": "4Zu7e4UqSIM_"
      },
      "source": [
        "#We will make separate column for Blacks and Asians to know more about the behavior of police with this minority group.\n",
        "dataset['Bame'] = (dataset['Officer-defined ethnicity']=='Asian') | (dataset['Officer-defined ethnicity']=='Black')"
      ],
      "execution_count": null,
      "outputs": []
    },
    {
      "cell_type": "code",
      "metadata": {
        "id": "-DyjkT4lVBN3"
      },
      "source": [
        "#We will make a separate column for no action to use it in our model.\n",
        "dataset['noaction'] = (dataset['Outcome']=='Nothing found - no further action')"
      ],
      "execution_count": null,
      "outputs": []
    },
    {
      "cell_type": "code",
      "metadata": {
        "colab": {
          "base_uri": "https://localhost:8080/",
          "height": 312
        },
        "id": "93M-AzO5VXit",
        "outputId": "cc5c7203-0f69-45df-b64d-1f07a64dad18"
      },
      "source": [
        "#We will visualize the barplot for no action with respect to BAME to get better understanding. \n",
        "dataset[dataset['noaction']==True].groupby('Bame')['Date'].count().plot.bar()"
      ],
      "execution_count": null,
      "outputs": [
        {
          "output_type": "execute_result",
          "data": {
            "text/plain": [
              "<AxesSubplot:xlabel='Bame'>"
            ]
          },
          "metadata": {
            "tags": []
          },
          "execution_count": 59
        },
        {
          "output_type": "display_data",
          "data": {
            "image/png": "[encoded data removed]",
            "text/plain": [
              "<Figure size 432x288 with 1 Axes>"
            ]
          },
          "metadata": {
            "tags": [],
            "needs_background": "light"
          }
        }
      ]
    },
    {
      "cell_type": "code",
      "metadata": {
        "colab": {
          "base_uri": "https://localhost:8080/"
        },
        "id": "sLma9tfnV0_o",
        "outputId": "e9c219a4-4571-4556-9275-a29ffa47909c"
      },
      "source": [
        "#We will see the no action feature  with officer defined ethnicity\n",
        "dataset[dataset['noaction']==True].groupby('Officer-defined ethnicity')['Date'].count()"
      ],
      "execution_count": null,
      "outputs": [
        {
          "output_type": "execute_result",
          "data": {
            "text/plain": [
              "Officer-defined ethnicity\n",
              "Asian    28959\n",
              "Black    76600\n",
              "Mixed        1\n",
              "Other     5847\n",
              "White    83980\n",
              "Name: Date, dtype: int64"
            ]
          },
          "metadata": {
            "tags": []
          },
          "execution_count": 60
        }
      ]
    },
    {
      "cell_type": "code",
      "metadata": {
        "colab": {
          "base_uri": "https://localhost:8080/"
        },
        "id": "NvTNG1nYWUoI",
        "outputId": "00bb5a3a-6512-43ce-89bd-4194cc796e1e"
      },
      "source": [
        "#We will see the percentage of no action taken according to officer defined ethnicity\n",
        "(dataset[dataset['noaction']==True].groupby('Officer-defined ethnicity')['Date'].count()) / dataset.groupby(['Officer-defined ethnicity'])['Date'].count()"
      ],
      "execution_count": null,
      "outputs": [
        {
          "output_type": "execute_result",
          "data": {
            "text/plain": [
              "Officer-defined ethnicity\n",
              "Asian    0.684594\n",
              "Black    0.684852\n",
              "Mixed    1.000000\n",
              "Other    0.677834\n",
              "White    0.674690\n",
              "Name: Date, dtype: float64"
            ]
          },
          "metadata": {
            "tags": []
          },
          "execution_count": 61
        }
      ]
    },
    {
      "cell_type": "code",
      "metadata": {
        "id": "We5Amhq2X0DQ"
      },
      "source": [
        "#make a new csv file with updated features\n",
        "dataset.to_csv('dataset.csv')"
      ],
      "execution_count": null,
      "outputs": []
    },
    {
      "cell_type": "code",
      "metadata": {
        "id": "dZ0u5-U5NR36"
      },
      "source": [
        "#The below code is also given in .py foam name As Classifier.py"
      ],
      "execution_count": null,
      "outputs": []
    },
    {
      "cell_type": "code",
      "metadata": {
        "id": "1GI-4c6oZ7Sh"
      },
      "source": [
        "''' This is the source code for modeling. Import the dataset.csv file and run the code in python IDE'''\n",
        "#import the necessary libraries\n",
        "import pandas as pd\n",
        "from sklearn import preprocessing\n",
        "import numpy as np\n",
        "from sklearn.preprocessing import StandardScaler\n",
        "from sklearn.model_selection import train_test_split\n",
        "from sklearn.metrics import accuracy_score, f1_score, precision_score, recall_score, classification_report, confusion_matrix\n",
        "from sklearn.model_selection import StratifiedShuffleSplit\n",
        "import matplotlib.pyplot as plt\n",
        "import seaborn as sns\n",
        "from sklearn.ensemble import RandomForestClassifier\n",
        "from sklearn.preprocessing import OrdinalEncoder\n",
        "from sklearn.impute import SimpleImputer"
      ],
      "execution_count": null,
      "outputs": []
    },
    {
      "cell_type": "code",
      "metadata": {
        "id": "Qn_fA3eENR37",
        "outputId": "09747698-8da9-4244-e1a8-d52493cd1c76"
      },
      "source": [
        "#read the dataset file\n",
        "dataset = pd.read_csv('dataset.csv')"
      ],
      "execution_count": null,
      "outputs": [
        {
          "output_type": "stream",
          "text": [
            "/Users/mianusmanahmed/opt/anaconda3/lib/python3.8/site-packages/IPython/core/interactiveshell.py:3146: DtypeWarning: Columns (10,12,13) have mixed types.Specify dtype option on import or set low_memory=False.\n",
            "  has_raised = await self.run_ast_nodes(code_ast.body, cell_name,\n"
          ],
          "name": "stderr"
        }
      ]
    },
    {
      "cell_type": "code",
      "metadata": {
        "id": "AyDQCZrLNR37"
      },
      "source": [
        "#remove unuseful columns, These columns were filled with nan values and some we do not need becasue of the problem statement we formulated \n",
        "dataset = dataset.drop(['Unnamed: 0', 'Date', 'Outcome', 'Outcome linked to object of search', 'Removal of more than just outer clothing', 'Longitude', 'Latitude'], axis = 1)\n",
        "\n",
        "dataset['Bame'] = dataset['Bame']*1\n",
        "dataset['noaction'] = dataset['noaction']*1"
      ],
      "execution_count": null,
      "outputs": []
    },
    {
      "cell_type": "code",
      "metadata": {
        "id": "McL30iE0NR37"
      },
      "source": [
        "#noaction is the output value we are going to predict, so we would separate it from input features.\n",
        "X = dataset.drop(['noaction'], axis = 1)\n",
        "# the noaction series is saved into output variable\n",
        "y = dataset.noaction"
      ],
      "execution_count": null,
      "outputs": []
    },
    {
      "cell_type": "code",
      "metadata": {
        "id": "fDF5eS5iNR38"
      },
      "source": [
        "#fill the nan values with mode, The mode is the value that appears most often in a set of data values. \n",
        "#dataset['Gender'] = dataset['Gender'].fillna(dataset['Gender'].mode()[0])\n",
        "#dataset['Age range'] = dataset['Age range'].fillna(dataset['Age range'].mode()[0])\n",
        "#dataset['Self-defined ethnicity'] = dataset['Self-defined ethnicity'].fillna(dataset['Self-defined ethnicity'].mode()[0])\n",
        "#dataset['Officer-defined ethnicity'] = dataset['Officer-defined ethnicity'].fillna(dataset['Officer-defined ethnicity'].mode()[0])\n",
        "#dataset['Object of search'] = dataset['Object of search'].fillna(dataset['Object of search'].mode()[0])\n",
        "imp_mean = SimpleImputer(missing_values=np.nan,  strategy='constant', fill_value=X.mode())\n",
        "X = imp_mean.fit_transform(X)"
      ],
      "execution_count": null,
      "outputs": []
    },
    {
      "cell_type": "code",
      "metadata": {
        "id": "C6zF4PywNR38"
      },
      "source": [
        "#Most of the features are categorical so we will encode them to be fed into the model. Here Ordinal Encoder from sklearn library has been used. It encodes categorical features as an integer array.\n",
        "oe = OrdinalEncoder()\n",
        "X = oe.fit_transform(X)"
      ],
      "execution_count": null,
      "outputs": []
    },
    {
      "cell_type": "code",
      "metadata": {
        "id": "IEHP4MpWNR38"
      },
      "source": [
        "#Now we would Standardize features by removing the mean and scaling to unit variance. Sklearn provide StandardScalar library from preprocessing package\n",
        "scalar = StandardScaler()\n",
        "X = scalar.fit_transform(X)"
      ],
      "execution_count": null,
      "outputs": []
    },
    {
      "cell_type": "code",
      "metadata": {
        "id": "KJrhnucmNR39"
      },
      "source": [
        "#the dataset is split into train and test set using StratifiedShuffleSplit which is library for sklearn. It returns stratified randomized folds. The folds are made by preserving the percentage of samples for each class.\n",
        "sss = StratifiedShuffleSplit(n_splits=50, test_size=0.2, random_state=0)\n",
        "for train_idx, test_idx in sss.split(X, y):\n",
        "    X_train, X_test, y_train, y_test = X[train_idx], X[test_idx], y[train_idx], y[test_idx]"
      ],
      "execution_count": null,
      "outputs": []
    },
    {
      "cell_type": "code",
      "metadata": {
        "id": "0BRHGEXyNR39",
        "outputId": "cc447e15-c3cc-48fe-e66f-905074a1e8e3"
      },
      "source": [
        "#We would use Random Forest Classifier for classification. A random forest is a meta estimator that fits a number of decision tree classifiers on various sub-samples of the dataset and uses averaging to improve the predictive accuracy and control over-fitting.\n",
        "#n_estimators = 500\n",
        "#max_depth=500\n",
        "#random_state=0\n",
        "#max_samples = 500\n",
        "classifier = RandomForestClassifier( )\n",
        "classifier.fit(X_train, y_train)"
      ],
      "execution_count": null,
      "outputs": [
        {
          "output_type": "execute_result",
          "data": {
            "text/plain": [
              "RandomForestClassifier()"
            ]
          },
          "metadata": {
            "tags": []
          },
          "execution_count": 71
        }
      ]
    },
    {
      "cell_type": "code",
      "metadata": {
        "id": "GXu7QR29NR39"
      },
      "source": [
        "#predict the test set\n",
        "yhat = classifier.predict(X_test)"
      ],
      "execution_count": null,
      "outputs": []
    },
    {
      "cell_type": "code",
      "metadata": {
        "id": "dXwkavi4NR3-",
        "outputId": "4af1429a-7da2-4108-814f-21a2196c0f1b"
      },
      "source": [
        "#check the accuracy of model using different classification metric\n",
        "print(f1_score(y_test, yhat, average=\"macro\"))\n",
        "print(recall_score(y_test, yhat, average=\"macro\"))    \n",
        "print(accuracy_score(y_test, yhat))"
      ],
      "execution_count": null,
      "outputs": [
        {
          "output_type": "stream",
          "text": [
            "0.4223127420144768\n",
            "0.5033546249313515\n",
            "0.6780925531183387\n"
          ],
          "name": "stdout"
        }
      ]
    },
    {
      "cell_type": "code",
      "metadata": {
        "id": "4N12HswUNR3-",
        "outputId": "75bfa1e7-0058-4401-c7cf-8ce8a3f2abeb"
      },
      "source": [
        "#We will also use confusion matrix to visulaize the performance. Confusion matrix also known as an error matrix, is a specific table layout that allows visualization of the performance of an algorithm.\n",
        "cf_matrix = confusion_matrix(y_test, yhat, normalize='true')\n",
        "plt.figure(figsize = (10,7))\n",
        "sns.heatmap(cf_matrix, annot=True, xticklabels = sorted(set(y_test)), yticklabels = sorted(set(y_test)),cbar=False)\n",
        "plt.title('Normalized Confusion Matrix', fontsize = 23)\n",
        "plt.xticks(fontsize=20)\n",
        "plt.yticks(fontsize=20)\n",
        "plt.show()"
      ],
      "execution_count": null,
      "outputs": [
        {
          "output_type": "display_data",
          "data": {
            "image/png": "[encoded data removed]",
            "text/plain": [
              "<Figure size 720x504 with 1 Axes>"
            ]
          },
          "metadata": {
            "tags": [],
            "needs_background": "light"
          }
        }
      ]
    },
    {
      "cell_type": "code",
      "metadata": {
        "id": "BBH1HkGyNR3-",
        "outputId": "5fee719f-2ee4-4941-8769-f687b3551733"
      },
      "source": [
        "#we would get the feature importances to see the contribution of different features to machine learning model.\n",
        "importances = list(zip(classifier.feature_importances_, dataset.columns))\n",
        "importances.sort(reverse=True)\n",
        "\n",
        "print(importances)"
      ],
      "execution_count": null,
      "outputs": [
        {
          "output_type": "stream",
          "text": [
            "[(0.36547258459983145, 'Self-defined ethnicity'), (0.2653678778682377, 'Age range'), (0.11099479253301618, 'Type'), (0.0805654774494744, 'Legislation'), (0.06827866620372376, 'Object of search'), (0.04999235451528877, 'Officer-defined ethnicity'), (0.04353660518984461, 'Gender'), (0.015791641640583116, 'Bame')]\n"
          ],
          "name": "stdout"
        }
      ]
    },
    {
      "cell_type": "code",
      "metadata": {
        "id": "rE5HXi2FNR3_",
        "outputId": "9d977c72-bdeb-4249-ba5c-b0c12bf590a3"
      },
      "source": [
        "#we would generate the barplot of feature importances to get better understanding of scores.\n",
        "pd.DataFrame(importances, index=[x for (_,x) in importances]).plot(kind = 'bar')"
      ],
      "execution_count": null,
      "outputs": [
        {
          "output_type": "execute_result",
          "data": {
            "text/plain": [
              "<AxesSubplot:>"
            ]
          },
          "metadata": {
            "tags": []
          },
          "execution_count": 76
        },
        {
          "output_type": "display_data",
          "data": {
            "image/png": "[encoded data removed]",
            "text/plain": [
              "<Figure size 432x288 with 1 Axes>"
            ]
          },
          "metadata": {
            "tags": [],
            "needs_background": "light"
          }
        }
      ]
    },
    {
      "cell_type": "code",
      "metadata": {
        "id": "VBEnod5ZNR3_"
      },
      "source": [
        ""
      ],
      "execution_count": null,
      "outputs": []
    }
  ]
}